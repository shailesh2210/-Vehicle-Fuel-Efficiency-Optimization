{
 "cells": [
  {
   "cell_type": "markdown",
   "id": "670b6f92",
   "metadata": {},
   "source": [
    "### Workflow\n",
    "- Problem Definition\n",
    "- Data Collection:\n",
    "- Data Exploration and Cleaning:\n",
    "- Feature Engineering:\n",
    "- Model Evaluation and Refinement:\n",
    "- Model Deployment and Monitoring:"
   ]
  },
  {
   "cell_type": "markdown",
   "id": "1755159e",
   "metadata": {},
   "source": [
    "### Problem Statement:\n",
    "Many vehicle owners and fleet managers face challenges in maintaining optimal fuel efficiency while minimizing maintenance costs. Unexpected breakdowns, inefficient engine performance, and wear and tear on components can lead to increased fuel consumption and operational expenses."
   ]
  },
  {
   "cell_type": "code",
   "execution_count": 25,
   "id": "45c81b38",
   "metadata": {},
   "outputs": [],
   "source": [
    "import pandas as pd\n",
    "import numpy as np\n",
    "import seaborn as sns\n",
    "import matplotlib.pyplot as plt"
   ]
  },
  {
   "cell_type": "code",
   "execution_count": 22,
   "id": "b80b3d65",
   "metadata": {},
   "outputs": [
    {
     "name": "stderr",
     "output_type": "stream",
     "text": [
      "C:\\Users\\Harsh Gaddam\\AppData\\Local\\Temp\\ipykernel_17764\\2721963490.py:1: DtypeWarning: Columns (7) have mixed types. Specify dtype option on import or set low_memory=False.\n",
      "  df = pd.read_csv(\"fuel.csv\")\n"
     ]
    }
   ],
   "source": [
    "df = pd.read_csv(\"fuel.csv\")"
   ]
  },
  {
   "cell_type": "code",
   "execution_count": 23,
   "id": "8ae011d6",
   "metadata": {},
   "outputs": [
    {
     "data": {
      "text/html": [
       "<div>\n",
       "<style scoped>\n",
       "    .dataframe tbody tr th:only-of-type {\n",
       "        vertical-align: middle;\n",
       "    }\n",
       "\n",
       "    .dataframe tbody tr th {\n",
       "        vertical-align: top;\n",
       "    }\n",
       "\n",
       "    .dataframe thead th {\n",
       "        text-align: right;\n",
       "    }\n",
       "</style>\n",
       "<table border=\"1\" class=\"dataframe\">\n",
       "  <thead>\n",
       "    <tr style=\"text-align: right;\">\n",
       "      <th></th>\n",
       "      <th>vehicle_id</th>\n",
       "      <th>year</th>\n",
       "      <th>make</th>\n",
       "      <th>model</th>\n",
       "      <th>class</th>\n",
       "      <th>drive</th>\n",
       "      <th>transmission</th>\n",
       "      <th>transmission_type</th>\n",
       "      <th>engine_index</th>\n",
       "      <th>engine_descriptor</th>\n",
       "      <th>...</th>\n",
       "      <th>fuel_type</th>\n",
       "      <th>city_mpg_ft1</th>\n",
       "      <th>highway_mpg_ft1</th>\n",
       "      <th>combined_mpg_ft1</th>\n",
       "      <th>annual_fuel_cost_ft1</th>\n",
       "      <th>annual_consumption_in_barrels_ft1</th>\n",
       "      <th>tailpipe_co2_ft1</th>\n",
       "      <th>tailpipe_co2_in_grams_mile_ft1</th>\n",
       "      <th>fuel_economy_score</th>\n",
       "      <th>my_mpg_data</th>\n",
       "    </tr>\n",
       "  </thead>\n",
       "  <tbody>\n",
       "    <tr>\n",
       "      <th>0</th>\n",
       "      <td>26587</td>\n",
       "      <td>1984</td>\n",
       "      <td>Alfa Romeo</td>\n",
       "      <td>GT V6 2.5</td>\n",
       "      <td>Minicompact Cars</td>\n",
       "      <td>NaN</td>\n",
       "      <td>Manual 5-Speed</td>\n",
       "      <td>NaN</td>\n",
       "      <td>9001</td>\n",
       "      <td>(FFS)</td>\n",
       "      <td>...</td>\n",
       "      <td>Regular</td>\n",
       "      <td>17</td>\n",
       "      <td>24</td>\n",
       "      <td>20</td>\n",
       "      <td>1750</td>\n",
       "      <td>16.480500</td>\n",
       "      <td>-1</td>\n",
       "      <td>444.350000</td>\n",
       "      <td>-1</td>\n",
       "      <td>N</td>\n",
       "    </tr>\n",
       "    <tr>\n",
       "      <th>1</th>\n",
       "      <td>27705</td>\n",
       "      <td>1984</td>\n",
       "      <td>Alfa Romeo</td>\n",
       "      <td>GT V6 2.5</td>\n",
       "      <td>Minicompact Cars</td>\n",
       "      <td>NaN</td>\n",
       "      <td>Manual 5-Speed</td>\n",
       "      <td>NaN</td>\n",
       "      <td>9005</td>\n",
       "      <td>(FFS) CA model</td>\n",
       "      <td>...</td>\n",
       "      <td>Regular</td>\n",
       "      <td>17</td>\n",
       "      <td>24</td>\n",
       "      <td>20</td>\n",
       "      <td>1750</td>\n",
       "      <td>16.480500</td>\n",
       "      <td>-1</td>\n",
       "      <td>444.350000</td>\n",
       "      <td>-1</td>\n",
       "      <td>N</td>\n",
       "    </tr>\n",
       "    <tr>\n",
       "      <th>2</th>\n",
       "      <td>26561</td>\n",
       "      <td>1984</td>\n",
       "      <td>Alfa Romeo</td>\n",
       "      <td>Spider Veloce 2000</td>\n",
       "      <td>Two Seaters</td>\n",
       "      <td>NaN</td>\n",
       "      <td>Manual 5-Speed</td>\n",
       "      <td>NaN</td>\n",
       "      <td>9002</td>\n",
       "      <td>(FFS)</td>\n",
       "      <td>...</td>\n",
       "      <td>Regular</td>\n",
       "      <td>18</td>\n",
       "      <td>25</td>\n",
       "      <td>21</td>\n",
       "      <td>1650</td>\n",
       "      <td>15.695714</td>\n",
       "      <td>-1</td>\n",
       "      <td>423.190476</td>\n",
       "      <td>-1</td>\n",
       "      <td>N</td>\n",
       "    </tr>\n",
       "    <tr>\n",
       "      <th>3</th>\n",
       "      <td>27681</td>\n",
       "      <td>1984</td>\n",
       "      <td>Alfa Romeo</td>\n",
       "      <td>Spider Veloce 2000</td>\n",
       "      <td>Two Seaters</td>\n",
       "      <td>NaN</td>\n",
       "      <td>Manual 5-Speed</td>\n",
       "      <td>NaN</td>\n",
       "      <td>9006</td>\n",
       "      <td>(FFS) CA model</td>\n",
       "      <td>...</td>\n",
       "      <td>Regular</td>\n",
       "      <td>18</td>\n",
       "      <td>25</td>\n",
       "      <td>21</td>\n",
       "      <td>1650</td>\n",
       "      <td>15.695714</td>\n",
       "      <td>-1</td>\n",
       "      <td>423.190476</td>\n",
       "      <td>-1</td>\n",
       "      <td>N</td>\n",
       "    </tr>\n",
       "    <tr>\n",
       "      <th>4</th>\n",
       "      <td>27550</td>\n",
       "      <td>1984</td>\n",
       "      <td>AM General</td>\n",
       "      <td>DJ Po Vehicle 2WD</td>\n",
       "      <td>Special Purpose Vehicle 2WD</td>\n",
       "      <td>2-Wheel Drive</td>\n",
       "      <td>Automatic 3-Speed</td>\n",
       "      <td>NaN</td>\n",
       "      <td>1830</td>\n",
       "      <td>(FFS)</td>\n",
       "      <td>...</td>\n",
       "      <td>Regular</td>\n",
       "      <td>18</td>\n",
       "      <td>17</td>\n",
       "      <td>17</td>\n",
       "      <td>2050</td>\n",
       "      <td>19.388824</td>\n",
       "      <td>-1</td>\n",
       "      <td>522.764706</td>\n",
       "      <td>-1</td>\n",
       "      <td>N</td>\n",
       "    </tr>\n",
       "  </tbody>\n",
       "</table>\n",
       "<p>5 rows × 24 columns</p>\n",
       "</div>"
      ],
      "text/plain": [
       "   vehicle_id  year        make               model  \\\n",
       "0       26587  1984  Alfa Romeo           GT V6 2.5   \n",
       "1       27705  1984  Alfa Romeo           GT V6 2.5   \n",
       "2       26561  1984  Alfa Romeo  Spider Veloce 2000   \n",
       "3       27681  1984  Alfa Romeo  Spider Veloce 2000   \n",
       "4       27550  1984  AM General   DJ Po Vehicle 2WD   \n",
       "\n",
       "                         class          drive       transmission  \\\n",
       "0             Minicompact Cars            NaN     Manual 5-Speed   \n",
       "1             Minicompact Cars            NaN     Manual 5-Speed   \n",
       "2                  Two Seaters            NaN     Manual 5-Speed   \n",
       "3                  Two Seaters            NaN     Manual 5-Speed   \n",
       "4  Special Purpose Vehicle 2WD  2-Wheel Drive  Automatic 3-Speed   \n",
       "\n",
       "  transmission_type  engine_index engine_descriptor  ...  fuel_type  \\\n",
       "0               NaN          9001             (FFS)  ...    Regular   \n",
       "1               NaN          9005    (FFS) CA model  ...    Regular   \n",
       "2               NaN          9002             (FFS)  ...    Regular   \n",
       "3               NaN          9006    (FFS) CA model  ...    Regular   \n",
       "4               NaN          1830             (FFS)  ...    Regular   \n",
       "\n",
       "   city_mpg_ft1 highway_mpg_ft1  combined_mpg_ft1 annual_fuel_cost_ft1  \\\n",
       "0            17              24                20                 1750   \n",
       "1            17              24                20                 1750   \n",
       "2            18              25                21                 1650   \n",
       "3            18              25                21                 1650   \n",
       "4            18              17                17                 2050   \n",
       "\n",
       "   annual_consumption_in_barrels_ft1  tailpipe_co2_ft1  \\\n",
       "0                          16.480500                -1   \n",
       "1                          16.480500                -1   \n",
       "2                          15.695714                -1   \n",
       "3                          15.695714                -1   \n",
       "4                          19.388824                -1   \n",
       "\n",
       "   tailpipe_co2_in_grams_mile_ft1  fuel_economy_score  my_mpg_data  \n",
       "0                      444.350000                  -1            N  \n",
       "1                      444.350000                  -1            N  \n",
       "2                      423.190476                  -1            N  \n",
       "3                      423.190476                  -1            N  \n",
       "4                      522.764706                  -1            N  \n",
       "\n",
       "[5 rows x 24 columns]"
      ]
     },
     "execution_count": 23,
     "metadata": {},
     "output_type": "execute_result"
    }
   ],
   "source": [
    "df.head()"
   ]
  },
  {
   "cell_type": "code",
   "execution_count": 26,
   "id": "13ae3534",
   "metadata": {},
   "outputs": [
    {
     "data": {
      "text/plain": [
       "(38113, 24)"
      ]
     },
     "execution_count": 26,
     "metadata": {},
     "output_type": "execute_result"
    }
   ],
   "source": [
    "df.shape"
   ]
  },
  {
   "cell_type": "code",
   "execution_count": 32,
   "id": "c6a98a08",
   "metadata": {},
   "outputs": [
    {
     "data": {
      "text/plain": [
       "Index(['vehicle_id', 'year', 'make', 'model', 'class', 'drive', 'transmission',\n",
       "       'transmission_type', 'engine_index', 'engine_descriptor',\n",
       "       'engine_cylinders', 'engine_displacement', 'turbocharger',\n",
       "       'supercharger', 'fuel_type', 'city_mpg_ft1', 'highway_mpg_ft1',\n",
       "       'combined_mpg_ft1', 'annual_fuel_cost_ft1',\n",
       "       'annual_consumption_in_barrels_ft1', 'tailpipe_co2_ft1',\n",
       "       'tailpipe_co2_in_grams_mile_ft1', 'fuel_economy_score', 'my_mpg_data'],\n",
       "      dtype='object')"
      ]
     },
     "execution_count": 32,
     "metadata": {},
     "output_type": "execute_result"
    }
   ],
   "source": [
    "df.columns"
   ]
  },
  {
   "cell_type": "code",
   "execution_count": 27,
   "id": "67d9a446",
   "metadata": {},
   "outputs": [
    {
     "name": "stdout",
     "output_type": "stream",
     "text": [
      "<class 'pandas.core.frame.DataFrame'>\n",
      "RangeIndex: 38113 entries, 0 to 38112\n",
      "Data columns (total 24 columns):\n",
      " #   Column                             Non-Null Count  Dtype  \n",
      "---  ------                             --------------  -----  \n",
      " 0   vehicle_id                         38113 non-null  int64  \n",
      " 1   year                               38113 non-null  int64  \n",
      " 2   make                               38113 non-null  object \n",
      " 3   model                              38113 non-null  object \n",
      " 4   class                              38113 non-null  object \n",
      " 5   drive                              36924 non-null  object \n",
      " 6   transmission                       38102 non-null  object \n",
      " 7   transmission_type                  15045 non-null  object \n",
      " 8   engine_index                       38113 non-null  int64  \n",
      " 9   engine_descriptor                  22693 non-null  object \n",
      " 10  engine_cylinders                   37977 non-null  float64\n",
      " 11  engine_displacement                37979 non-null  float64\n",
      " 12  turbocharger                       5239 non-null   object \n",
      " 13  supercharger                       0 non-null      float64\n",
      " 14  fuel_type                          38113 non-null  object \n",
      " 15  city_mpg_ft1                       38113 non-null  int64  \n",
      " 16  highway_mpg_ft1                    38113 non-null  int64  \n",
      " 17  combined_mpg_ft1                   38113 non-null  int64  \n",
      " 18  annual_fuel_cost_ft1               38113 non-null  int64  \n",
      " 19  annual_consumption_in_barrels_ft1  38113 non-null  float64\n",
      " 20  tailpipe_co2_ft1                   38113 non-null  int64  \n",
      " 21  tailpipe_co2_in_grams_mile_ft1     38113 non-null  float64\n",
      " 22  fuel_economy_score                 38113 non-null  int64  \n",
      " 23  my_mpg_data                        38113 non-null  object \n",
      "dtypes: float64(5), int64(9), object(10)\n",
      "memory usage: 7.0+ MB\n"
     ]
    }
   ],
   "source": [
    "df.info()"
   ]
  },
  {
   "cell_type": "code",
   "execution_count": 29,
   "id": "91808fef",
   "metadata": {},
   "outputs": [
    {
     "data": {
      "text/html": [
       "<div>\n",
       "<style scoped>\n",
       "    .dataframe tbody tr th:only-of-type {\n",
       "        vertical-align: middle;\n",
       "    }\n",
       "\n",
       "    .dataframe tbody tr th {\n",
       "        vertical-align: top;\n",
       "    }\n",
       "\n",
       "    .dataframe thead th {\n",
       "        text-align: right;\n",
       "    }\n",
       "</style>\n",
       "<table border=\"1\" class=\"dataframe\">\n",
       "  <thead>\n",
       "    <tr style=\"text-align: right;\">\n",
       "      <th></th>\n",
       "      <th>count</th>\n",
       "      <th>mean</th>\n",
       "      <th>std</th>\n",
       "      <th>min</th>\n",
       "      <th>25%</th>\n",
       "      <th>50%</th>\n",
       "      <th>75%</th>\n",
       "      <th>max</th>\n",
       "    </tr>\n",
       "  </thead>\n",
       "  <tbody>\n",
       "    <tr>\n",
       "      <th>vehicle_id</th>\n",
       "      <td>38113.0</td>\n",
       "      <td>19170.638496</td>\n",
       "      <td>11134.878665</td>\n",
       "      <td>1.00</td>\n",
       "      <td>9529.00000</td>\n",
       "      <td>19058.000000</td>\n",
       "      <td>28779.000000</td>\n",
       "      <td>38542.000000</td>\n",
       "    </tr>\n",
       "    <tr>\n",
       "      <th>year</th>\n",
       "      <td>38113.0</td>\n",
       "      <td>2000.194527</td>\n",
       "      <td>10.464573</td>\n",
       "      <td>1984.00</td>\n",
       "      <td>1991.00000</td>\n",
       "      <td>2001.000000</td>\n",
       "      <td>2009.000000</td>\n",
       "      <td>2017.000000</td>\n",
       "    </tr>\n",
       "    <tr>\n",
       "      <th>engine_index</th>\n",
       "      <td>38113.0</td>\n",
       "      <td>8799.389001</td>\n",
       "      <td>17781.058490</td>\n",
       "      <td>0.00</td>\n",
       "      <td>0.00000</td>\n",
       "      <td>212.000000</td>\n",
       "      <td>4451.000000</td>\n",
       "      <td>69102.000000</td>\n",
       "    </tr>\n",
       "    <tr>\n",
       "      <th>engine_cylinders</th>\n",
       "      <td>37977.0</td>\n",
       "      <td>5.736656</td>\n",
       "      <td>1.752254</td>\n",
       "      <td>2.00</td>\n",
       "      <td>4.00000</td>\n",
       "      <td>6.000000</td>\n",
       "      <td>6.000000</td>\n",
       "      <td>16.000000</td>\n",
       "    </tr>\n",
       "    <tr>\n",
       "      <th>engine_displacement</th>\n",
       "      <td>37979.0</td>\n",
       "      <td>3.317583</td>\n",
       "      <td>1.361995</td>\n",
       "      <td>0.00</td>\n",
       "      <td>2.20000</td>\n",
       "      <td>3.000000</td>\n",
       "      <td>4.300000</td>\n",
       "      <td>8.400000</td>\n",
       "    </tr>\n",
       "    <tr>\n",
       "      <th>supercharger</th>\n",
       "      <td>0.0</td>\n",
       "      <td>NaN</td>\n",
       "      <td>NaN</td>\n",
       "      <td>NaN</td>\n",
       "      <td>NaN</td>\n",
       "      <td>NaN</td>\n",
       "      <td>NaN</td>\n",
       "      <td>NaN</td>\n",
       "    </tr>\n",
       "    <tr>\n",
       "      <th>city_mpg_ft1</th>\n",
       "      <td>38113.0</td>\n",
       "      <td>17.981109</td>\n",
       "      <td>6.849728</td>\n",
       "      <td>6.00</td>\n",
       "      <td>15.00000</td>\n",
       "      <td>17.000000</td>\n",
       "      <td>20.000000</td>\n",
       "      <td>150.000000</td>\n",
       "    </tr>\n",
       "    <tr>\n",
       "      <th>highway_mpg_ft1</th>\n",
       "      <td>38113.0</td>\n",
       "      <td>24.080786</td>\n",
       "      <td>7.026649</td>\n",
       "      <td>9.00</td>\n",
       "      <td>20.00000</td>\n",
       "      <td>24.000000</td>\n",
       "      <td>27.000000</td>\n",
       "      <td>122.000000</td>\n",
       "    </tr>\n",
       "    <tr>\n",
       "      <th>combined_mpg_ft1</th>\n",
       "      <td>38113.0</td>\n",
       "      <td>20.216068</td>\n",
       "      <td>6.772655</td>\n",
       "      <td>7.00</td>\n",
       "      <td>17.00000</td>\n",
       "      <td>19.000000</td>\n",
       "      <td>23.000000</td>\n",
       "      <td>136.000000</td>\n",
       "    </tr>\n",
       "    <tr>\n",
       "      <th>annual_fuel_cost_ft1</th>\n",
       "      <td>38113.0</td>\n",
       "      <td>1970.675360</td>\n",
       "      <td>532.555234</td>\n",
       "      <td>500.00</td>\n",
       "      <td>1600.00000</td>\n",
       "      <td>1950.000000</td>\n",
       "      <td>2350.000000</td>\n",
       "      <td>6050.000000</td>\n",
       "    </tr>\n",
       "    <tr>\n",
       "      <th>annual_consumption_in_barrels_ft1</th>\n",
       "      <td>38113.0</td>\n",
       "      <td>17.517635</td>\n",
       "      <td>4.577019</td>\n",
       "      <td>0.06</td>\n",
       "      <td>14.33087</td>\n",
       "      <td>17.347895</td>\n",
       "      <td>20.600625</td>\n",
       "      <td>47.087143</td>\n",
       "    </tr>\n",
       "    <tr>\n",
       "      <th>tailpipe_co2_ft1</th>\n",
       "      <td>38113.0</td>\n",
       "      <td>64.281794</td>\n",
       "      <td>156.148536</td>\n",
       "      <td>-1.00</td>\n",
       "      <td>-1.00000</td>\n",
       "      <td>-1.000000</td>\n",
       "      <td>-1.000000</td>\n",
       "      <td>847.000000</td>\n",
       "    </tr>\n",
       "    <tr>\n",
       "      <th>tailpipe_co2_in_grams_mile_ft1</th>\n",
       "      <td>38113.0</td>\n",
       "      <td>472.761382</td>\n",
       "      <td>122.200358</td>\n",
       "      <td>0.00</td>\n",
       "      <td>388.00000</td>\n",
       "      <td>467.736842</td>\n",
       "      <td>555.437500</td>\n",
       "      <td>1269.571429</td>\n",
       "    </tr>\n",
       "    <tr>\n",
       "      <th>fuel_economy_score</th>\n",
       "      <td>38113.0</td>\n",
       "      <td>0.005457</td>\n",
       "      <td>2.418697</td>\n",
       "      <td>-1.00</td>\n",
       "      <td>-1.00000</td>\n",
       "      <td>-1.000000</td>\n",
       "      <td>-1.000000</td>\n",
       "      <td>10.000000</td>\n",
       "    </tr>\n",
       "  </tbody>\n",
       "</table>\n",
       "</div>"
      ],
      "text/plain": [
       "                                     count          mean           std  \\\n",
       "vehicle_id                         38113.0  19170.638496  11134.878665   \n",
       "year                               38113.0   2000.194527     10.464573   \n",
       "engine_index                       38113.0   8799.389001  17781.058490   \n",
       "engine_cylinders                   37977.0      5.736656      1.752254   \n",
       "engine_displacement                37979.0      3.317583      1.361995   \n",
       "supercharger                           0.0           NaN           NaN   \n",
       "city_mpg_ft1                       38113.0     17.981109      6.849728   \n",
       "highway_mpg_ft1                    38113.0     24.080786      7.026649   \n",
       "combined_mpg_ft1                   38113.0     20.216068      6.772655   \n",
       "annual_fuel_cost_ft1               38113.0   1970.675360    532.555234   \n",
       "annual_consumption_in_barrels_ft1  38113.0     17.517635      4.577019   \n",
       "tailpipe_co2_ft1                   38113.0     64.281794    156.148536   \n",
       "tailpipe_co2_in_grams_mile_ft1     38113.0    472.761382    122.200358   \n",
       "fuel_economy_score                 38113.0      0.005457      2.418697   \n",
       "\n",
       "                                       min         25%           50%  \\\n",
       "vehicle_id                            1.00  9529.00000  19058.000000   \n",
       "year                               1984.00  1991.00000   2001.000000   \n",
       "engine_index                          0.00     0.00000    212.000000   \n",
       "engine_cylinders                      2.00     4.00000      6.000000   \n",
       "engine_displacement                   0.00     2.20000      3.000000   \n",
       "supercharger                           NaN         NaN           NaN   \n",
       "city_mpg_ft1                          6.00    15.00000     17.000000   \n",
       "highway_mpg_ft1                       9.00    20.00000     24.000000   \n",
       "combined_mpg_ft1                      7.00    17.00000     19.000000   \n",
       "annual_fuel_cost_ft1                500.00  1600.00000   1950.000000   \n",
       "annual_consumption_in_barrels_ft1     0.06    14.33087     17.347895   \n",
       "tailpipe_co2_ft1                     -1.00    -1.00000     -1.000000   \n",
       "tailpipe_co2_in_grams_mile_ft1        0.00   388.00000    467.736842   \n",
       "fuel_economy_score                   -1.00    -1.00000     -1.000000   \n",
       "\n",
       "                                            75%           max  \n",
       "vehicle_id                         28779.000000  38542.000000  \n",
       "year                                2009.000000   2017.000000  \n",
       "engine_index                        4451.000000  69102.000000  \n",
       "engine_cylinders                       6.000000     16.000000  \n",
       "engine_displacement                    4.300000      8.400000  \n",
       "supercharger                                NaN           NaN  \n",
       "city_mpg_ft1                          20.000000    150.000000  \n",
       "highway_mpg_ft1                       27.000000    122.000000  \n",
       "combined_mpg_ft1                      23.000000    136.000000  \n",
       "annual_fuel_cost_ft1                2350.000000   6050.000000  \n",
       "annual_consumption_in_barrels_ft1     20.600625     47.087143  \n",
       "tailpipe_co2_ft1                      -1.000000    847.000000  \n",
       "tailpipe_co2_in_grams_mile_ft1       555.437500   1269.571429  \n",
       "fuel_economy_score                    -1.000000     10.000000  "
      ]
     },
     "execution_count": 29,
     "metadata": {},
     "output_type": "execute_result"
    }
   ],
   "source": [
    "df.describe().T"
   ]
  },
  {
   "cell_type": "code",
   "execution_count": 30,
   "id": "1da0621f",
   "metadata": {},
   "outputs": [
    {
     "data": {
      "text/plain": [
       "vehicle_id                               0\n",
       "year                                     0\n",
       "make                                     0\n",
       "model                                    0\n",
       "class                                    0\n",
       "drive                                 1189\n",
       "transmission                            11\n",
       "transmission_type                    23068\n",
       "engine_index                             0\n",
       "engine_descriptor                    15420\n",
       "engine_cylinders                       136\n",
       "engine_displacement                    134\n",
       "turbocharger                         32874\n",
       "supercharger                         38113\n",
       "fuel_type                                0\n",
       "city_mpg_ft1                             0\n",
       "highway_mpg_ft1                          0\n",
       "combined_mpg_ft1                         0\n",
       "annual_fuel_cost_ft1                     0\n",
       "annual_consumption_in_barrels_ft1        0\n",
       "tailpipe_co2_ft1                         0\n",
       "tailpipe_co2_in_grams_mile_ft1           0\n",
       "fuel_economy_score                       0\n",
       "my_mpg_data                              0\n",
       "dtype: int64"
      ]
     },
     "execution_count": 30,
     "metadata": {},
     "output_type": "execute_result"
    }
   ],
   "source": [
    "df.isnull().sum()"
   ]
  },
  {
   "cell_type": "code",
   "execution_count": 24,
   "id": "b85263c7",
   "metadata": {},
   "outputs": [
    {
     "data": {
      "text/plain": [
       "<Axes: >"
      ]
     },
     "execution_count": 24,
     "metadata": {},
     "output_type": "execute_result"
    },
    {
     "data": {
      "image/png": "[encoded data removed]",
      "text/plain": [
       "<Figure size 1200x600 with 2 Axes>"
      ]
     },
     "metadata": {},
     "output_type": "display_data"
    }
   ],
   "source": [
    "plt.figure(figsize=(12, 6))\n",
    "sns.heatmap(df.isnull())"
   ]
  },
  {
   "cell_type": "code",
   "execution_count": 31,
   "id": "db26fdc9",
   "metadata": {},
   "outputs": [
    {
     "data": {
      "text/plain": [
       "0"
      ]
     },
     "execution_count": 31,
     "metadata": {},
     "output_type": "execute_result"
    }
   ],
   "source": [
    "df.duplicated().sum()"
   ]
  },
  {
   "cell_type": "code",
   "execution_count": 35,
   "id": "18a24bed",
   "metadata": {},
   "outputs": [
    {
     "data": {
      "text/plain": [
       "133"
      ]
     },
     "execution_count": 35,
     "metadata": {},
     "output_type": "execute_result"
    }
   ],
   "source": [
    "len(df[\"make\"].unique())"
   ]
  },
  {
   "cell_type": "code",
   "execution_count": 37,
   "id": "4b96d1be",
   "metadata": {},
   "outputs": [
    {
     "data": {
      "text/plain": [
       "3748"
      ]
     },
     "execution_count": 37,
     "metadata": {},
     "output_type": "execute_result"
    }
   ],
   "source": [
    "len(df[\"model\"].unique())"
   ]
  },
  {
   "cell_type": "code",
   "execution_count": 38,
   "id": "ed2da515",
   "metadata": {},
   "outputs": [
    {
     "data": {
      "text/plain": [
       "array(['GT V6 2.5', 'Spider Veloce 2000', 'DJ Po Vehicle 2WD', ...,\n",
       "       'S90 FWD', 'V60 Polestar AWD', 'V90 CC AWD'], dtype=object)"
      ]
     },
     "execution_count": 38,
     "metadata": {},
     "output_type": "execute_result"
    }
   ],
   "source": [
    "df[\"model\"].unique()"
   ]
  },
  {
   "cell_type": "code",
   "execution_count": 41,
   "id": "8939cbc8",
   "metadata": {},
   "outputs": [
    {
     "data": {
      "text/plain": [
       "array(['Minicompact Cars', 'Two Seaters', 'Special Purpose Vehicle 2WD',\n",
       "       'Special Purpose Vehicle 4WD', 'Subcompact Cars', 'Midsize Cars',\n",
       "       'Midsize Station Wagons', 'Compact Cars',\n",
       "       'Midsize-Large Station Wagons', 'Large Cars',\n",
       "       'Small Station Wagons', 'Standard Pickup Trucks 2WD',\n",
       "       'Vans, Passenger Type', 'Vans, Cargo Type',\n",
       "       'Standard Pickup Trucks 4WD', 'Special Purpose Vehicles',\n",
       "       'Small Pickup Trucks 2WD', 'Small Pickup Trucks 4WD', 'Vans',\n",
       "       'Standard Pickup Trucks', 'Small Pickup Trucks', 'Vans Passenger',\n",
       "       'Standard Pickup Trucks/2wd', 'Special Purpose Vehicles/2wd',\n",
       "       'Special Purpose Vehicles/4wd', 'Sport Utility Vehicle - 4WD',\n",
       "       'Sport Utility Vehicle - 2WD', 'Minivan - 2WD', 'Minivan - 4WD',\n",
       "       'Special Purpose Vehicle', 'Small Sport Utility Vehicle 4WD',\n",
       "       'Small Sport Utility Vehicle 2WD',\n",
       "       'Standard Sport Utility Vehicle 4WD',\n",
       "       'Standard Sport Utility Vehicle 2WD'], dtype=object)"
      ]
     },
     "execution_count": 41,
     "metadata": {},
     "output_type": "execute_result"
    }
   ],
   "source": [
    "df[\"class\"].unique()"
   ]
  },
  {
   "cell_type": "code",
   "execution_count": 44,
   "id": "c59e3489",
   "metadata": {},
   "outputs": [
    {
     "data": {
      "text/plain": [
       "array([nan, '2-Wheel Drive', '4-Wheel or All-Wheel Drive',\n",
       "       'Rear-Wheel Drive', 'Front-Wheel Drive', '4-Wheel Drive',\n",
       "       'All-Wheel Drive', 'Part-time 4-Wheel Drive'], dtype=object)"
      ]
     },
     "execution_count": 44,
     "metadata": {},
     "output_type": "execute_result"
    }
   ],
   "source": [
    "df[\"drive\"].unique()"
   ]
  },
  {
   "cell_type": "code",
   "execution_count": 45,
   "id": "0a583164",
   "metadata": {},
   "outputs": [
    {
     "data": {
      "text/plain": [
       "array(['Manual 5-Speed', 'Automatic 3-Speed', 'Manual 4-Speed',\n",
       "       'Automatic 4-Speed', 'Manual 3-Speed', 'Manual 4-Speed Doubled',\n",
       "       nan, 'Automatic (S4)', 'Manual 5 Speed', 'Manual 6-Speed',\n",
       "       'Automatic (variable gear ratios)', 'Automatic 5-Speed',\n",
       "       'Automatic (S5)', 'Auto(L4)', 'Auto(L3)', 'Automatic (A1)',\n",
       "       'Automatic 6-Speed', 'Automatic (S6)', 'Automatic 7-Speed',\n",
       "       'Automatic (S7)', 'Automatic (S8)', 'Automatic (AV)', 'Auto(AM7)',\n",
       "       'Automatic (AM5)', 'Auto(AM6)', 'Automatic (AM6)',\n",
       "       'Automatic (A6)', 'Auto(AV-S7)', 'Manual 7-Speed', 'Auto (AV-S6)',\n",
       "       'Auto (AV-S8)', 'Automatic (AV-S6)', 'Auto(AV-S6)', 'Auto(AM5)',\n",
       "       'Auto (AV)', 'Auto(AV-S8)', 'Automatic 8-Speed', 'Auto(AM-S6)',\n",
       "       'Auto(AM-S7)', 'Automatic 6Speed', 'Automatic 9-Speed',\n",
       "       'Automatic (S9)', 'Auto(AM-S8)', 'Auto(AM8)', 'Manual(M7)',\n",
       "       'Auto(AM-S9)', 'Automatic (S10)'], dtype=object)"
      ]
     },
     "execution_count": 45,
     "metadata": {},
     "output_type": "execute_result"
    }
   ],
   "source": [
    "df[\"transmission\"].unique()"
   ]
  },
  {
   "cell_type": "code",
   "execution_count": 46,
   "id": "6839f2c9",
   "metadata": {},
   "outputs": [
    {
     "data": {
      "text/plain": [
       "array([nan, 'Creeper', 'SIL', 'Overdrive', 'Lockup', 'VLKUP', '2MODE',\n",
       "       '2MODE 2LKUP', '3LKUP', '2LKUP', 'CLKUP', '2MODE 3LKUP',\n",
       "       'fuel injection', 'SIL Creeper', 'DC/FW', 'Lockup A3',\n",
       "       '2MODE CLKUP', 'EMS 2MODE CLKU', 'EMS', '3MODE VLKUP', '4MODE',\n",
       "       '3MODE CLKUP', 'SIL CMODE', '2MODE VLKUP', 'EMS 2MODE CLKUP',\n",
       "       'EMS 5MODE', 'EMS 2MODE', '2MODE DC/FW', 'Elec Overdrive',\n",
       "       'Mech Overdrive', '3MODE', 'CMODE', 'EMS 3MODE', '2MODE CLKUP FW',\n",
       "       '3MODE 2LKUP', 'VMODE CLKUP', 'EMS CLKUP', 'EMS CMODE CLKUP',\n",
       "       'SIL CLKUP', 'CMODE CLKUP', 'VMODE', 'EMS 3MODE CLKUP',\n",
       "       '4MODE CLKUP', '6MODE', 'SIL EMS', 'VMODE VLKUP', '6MODE CLKUP',\n",
       "       'SIL 3MODE', 'LONG RATIO', 'CMODE VLKUP', 'SIL 3MODE CLKUP',\n",
       "       '3MODE CLKUP FW', 'SIL 2MODE CLKUP'], dtype=object)"
      ]
     },
     "execution_count": 46,
     "metadata": {},
     "output_type": "execute_result"
    }
   ],
   "source": [
    "df[\"transmission_type\"].unique()"
   ]
  },
  {
   "cell_type": "code",
   "execution_count": 47,
   "id": "b138e25d",
   "metadata": {},
   "outputs": [
    {
     "data": {
      "text/plain": [
       "0        9001\n",
       "1        9005\n",
       "2        9002\n",
       "3        9006\n",
       "4        1830\n",
       "         ... \n",
       "38108      90\n",
       "38109      52\n",
       "38110      53\n",
       "38111      54\n",
       "38112      50\n",
       "Name: engine_index, Length: 38113, dtype: int64"
      ]
     },
     "execution_count": 47,
     "metadata": {},
     "output_type": "execute_result"
    }
   ],
   "source": [
    "df[\"engine_index\"]"
   ]
  },
  {
   "cell_type": "code",
   "execution_count": null,
   "id": "dbd7e7fb",
   "metadata": {},
   "outputs": [],
   "source": []
  }
 ],
 "metadata": {
  "kernelspec": {
   "display_name": "Python 3 (ipykernel)",
   "language": "python",
   "name": "python3"
  },
  "language_info": {
   "codemirror_mode": {
    "name": "ipython",
    "version": 3
   },
   "file_extension": ".py",
   "mimetype": "text/x-python",
   "name": "python",
   "nbconvert_exporter": "python",
   "pygments_lexer": "ipython3",
   "version": "3.11.5"
  }
 },
 "nbformat": 4,
 "nbformat_minor": 5
}
